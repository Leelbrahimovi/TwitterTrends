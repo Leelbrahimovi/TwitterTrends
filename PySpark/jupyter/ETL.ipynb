{
 "cells": [
  {
   "cell_type": "code",
   "execution_count": null,
   "metadata": {
    "collapsed": true
   },
   "outputs": [],
   "source": [
    "import os, sys\n",
    "from pyspark import SparkContext, SparkConf\n",
    "appName = \"miApp\"\n",
    "master=\"local[*]\"\n",
    "\n",
    "conf = SparkConf().setAppName(appName).setMaster(master)\n",
    "sc = SparkContext(conf=conf)"
   ]
  },
  {
   "cell_type": "code",
   "execution_count": null,
   "metadata": {},
   "outputs": [],
   "source": [
    "#print(os.getcwd())\n",
    "textFile = sc.textFile(\"../../datasets/worldbank-millennium-development-goals.csv\")\n",
    "\n",
    "# datasets at:\n",
    "#https://datasource.kapsarc.org/explore/dataset/worldbank-millennium-development-goals/export/\n",
    "#https://datasource.kapsarc.org/explore/dataset/worldbank-health-nutrition-and-population-statistics/export/"
   ]
  },
  {
   "cell_type": "code",
   "execution_count": null,
   "metadata": {},
   "outputs": [],
   "source": [
    "print(textFile.count()) # Number of items in this RDD\n",
    "\n",
    "textFile.first()  # First item in this RDD"
   ]
  },
  {
   "cell_type": "code",
   "execution_count": null,
   "metadata": {},
   "outputs": [],
   "source": [
    "textFile.filter(lambda line: \"Spain\" in line).count()  # How many lines contain \"Spain\"?"
   ]
  },
  {
   "cell_type": "code",
   "execution_count": null,
   "metadata": {},
   "outputs": [],
   "source": [
    "# find the line with the most words (lambda format)\n",
    "textFile.map(lambda line: len(line.split())).reduce(lambda a, b: a if (a > b) else b)"
   ]
  },
  {
   "cell_type": "code",
   "execution_count": null,
   "metadata": {},
   "outputs": [],
   "source": [
    "# find the line with the most words (function format)\n",
    "def max(a, b):\n",
    "     if a > b:\n",
    "         return a\n",
    "     else:\n",
    "         return b\n",
    "\n",
    "\n",
    "textFile.map(lambda line: len(line.split())).reduce(max)"
   ]
  },
  {
   "cell_type": "code",
   "execution_count": null,
   "metadata": {
    "collapsed": true
   },
   "outputs": [],
   "source": [
    "# One common data flow pattern is MapReduce, as popularized by Hadoop. Spark can implement MapReduce flows easily:\n",
    "wordCounts = textFile.flatMap(lambda line: line.split()).map(lambda word: (word, 1)).reduceByKey(lambda a, b: a+b)"
   ]
  },
  {
   "cell_type": "code",
   "execution_count": null,
   "metadata": {},
   "outputs": [],
   "source": [
    "wordCounts.collect()"
   ]
  },
  {
   "cell_type": "code",
   "execution_count": null,
   "metadata": {
    "collapsed": true
   },
   "outputs": [],
   "source": []
  },
  {
   "cell_type": "code",
   "execution_count": null,
   "metadata": {},
   "outputs": [],
   "source": [
    "#textFile.first() # returns first item\n",
    "textFile.take(3)"
   ]
  },
  {
   "cell_type": "code",
   "execution_count": null,
   "metadata": {
    "collapsed": true
   },
   "outputs": [],
   "source": [
    "lines = textFile.map(lambda x: (x.split(',')))"
   ]
  },
  {
   "cell_type": "code",
   "execution_count": null,
   "metadata": {},
   "outputs": [],
   "source": [
    "lines.take(3)"
   ]
  },
  {
   "cell_type": "code",
   "execution_count": null,
   "metadata": {
    "collapsed": true
   },
   "outputs": [],
   "source": [
    "#get Year\n",
    "years = lines.map(lambda x: (x[0].split(';')[4], 1))\n",
    "print(years.take(3))\n",
    "\n",
    "counts = years.reduceByKey(lambda a, b: a + b)\n",
    "print(counts.collect()) # TODO: fix it"
   ]
  },
  {
   "cell_type": "code",
   "execution_count": null,
   "metadata": {
    "collapsed": true
   },
   "outputs": [],
   "source": []
  },
  {
   "cell_type": "code",
   "execution_count": null,
   "metadata": {
    "collapsed": true
   },
   "outputs": [],
   "source": [
    "#EXAMPLE\n",
    "pairs = people.map(lambda x: (x[4], 1))\n",
    "counts = pairs.reduceByKey(lambda a, b: a + b)\n",
    "print(counts.collect())"
   ]
  }
 ],
 "metadata": {
  "kernelspec": {
   "display_name": "Python 3",
   "language": "python",
   "name": "python3"
  },
  "language_info": {
   "codemirror_mode": {
    "name": "ipython",
    "version": 3
   },
   "file_extension": ".py",
   "mimetype": "text/x-python",
   "name": "python",
   "nbconvert_exporter": "python",
   "pygments_lexer": "ipython3",
   "version": "3.6.1"
  }
 },
 "nbformat": 4,
 "nbformat_minor": 2
}
