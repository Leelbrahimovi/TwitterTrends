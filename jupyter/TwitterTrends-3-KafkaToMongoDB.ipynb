{
 "cells": [
  {
   "cell_type": "markdown",
   "metadata": {},
   "source": [
    "# TwitterTrends-3-KafkaToMongoDB"
   ]
  },
  {
   "cell_type": "markdown",
   "metadata": {},
   "source": [
    "## Importing libraries"
   ]
  },
  {
   "cell_type": "code",
   "execution_count": 1,
   "metadata": {},
   "outputs": [
    {
     "data": {
      "text/plain": [
       "\u001b[32mimport \u001b[39m\u001b[36m$ivy.$                                  \r\n",
       "\u001b[39m\r\n",
       "\u001b[32mimport \u001b[39m\u001b[36m$ivy.$                                               \u001b[39m"
      ]
     },
     "execution_count": 1,
     "metadata": {},
     "output_type": "execute_result"
    }
   ],
   "source": [
    "import $ivy.`org.apache.spark::spark-sql:2.2.0`\n",
    "import $ivy.`org.mongodb.spark::mongo-spark-connector:2.2.0`"
   ]
  },
  {
   "cell_type": "code",
   "execution_count": 2,
   "metadata": {
    "scrolled": true
   },
   "outputs": [
    {
     "data": {
      "text/plain": [
       "\u001b[32mimport \u001b[39m\u001b[36morg.apache.spark.sql.types._\r\n",
       "\u001b[39m\r\n",
       "\u001b[32mimport \u001b[39m\u001b[36morg.apache.spark.sql.SparkSession\r\n",
       "\r\n",
       "\u001b[39m\r\n",
       "\u001b[32mimport \u001b[39m\u001b[36mcom.mongodb.spark._\r\n",
       "\r\n",
       "\u001b[39m\r\n",
       "\u001b[32mimport \u001b[39m\u001b[36morg.apache.log4j.PropertyConfigurator\u001b[39m"
      ]
     },
     "execution_count": 2,
     "metadata": {},
     "output_type": "execute_result"
    }
   ],
   "source": [
    "import org.apache.spark.sql.types._\n",
    "import org.apache.spark.sql.SparkSession\n",
    "\n",
    "import com.mongodb.spark._\n",
    "\n",
    "import org.apache.log4j.PropertyConfigurator"
   ]
  },
  {
   "cell_type": "markdown",
   "metadata": {},
   "source": [
    "##  Creating Spark Session\n",
    "\n",
    "*Note: As stated in [readme](https://github.com/rvilla87/Big-Data#some-things-to-consider), we will change the log lv to WARN.*"
   ]
  },
  {
   "cell_type": "code",
   "execution_count": 3,
   "metadata": {
    "collapsed": true
   },
   "outputs": [],
   "source": [
    "PropertyConfigurator.configure(\"C:/spark/conf/log4j.properties\") // load spark's log4j configuration (set to WARN)"
   ]
  },
  {
   "cell_type": "code",
   "execution_count": 4,
   "metadata": {
    "scrolled": true
   },
   "outputs": [
    {
     "data": {
      "text/plain": [
       "\u001b[36mspark\u001b[39m: \u001b[32mSparkSession\u001b[39m = org.apache.spark.sql.SparkSession@4ce4d369"
      ]
     },
     "execution_count": 4,
     "metadata": {},
     "output_type": "execute_result"
    }
   ],
   "source": [
    "val spark = SparkSession.builder()\n",
    "  .appName(\"TwitterKafkaToMongoDB\")\n",
    "  .master(\"local[*]\")\n",
    "  .config(\"spark.mongodb.output.uri\", \"mongodb://127.0.0.1/TwitterTrends.trends\")\n",
    "  .getOrCreate()"
   ]
  },
  {
   "cell_type": "markdown",
   "metadata": {},
   "source": [
    "##  [Spark Structure Streaming](https://spark.apache.org/docs/latest/structured-streaming-programming-guide.html)\n",
    "\n",
    "As stated in [TwitterTrends-2-FileToKafka](TwitterTrends-2-FileToKafka.ipynb) we have to define a streaming Dataframe and `StreamingQuery`in order to read from Kafka and stream to [MongoDB](https://www.mongodb.com/).\n",
    "\n",
    "In order to create the streaming Dataframe we can use [Spark Connector](https://jira.mongodb.org/browse/SPARK) but at the moment [Spark Connector doesn't support structured streaming](https://jira.mongodb.org/browse/SPARK-85). So in this example we won't stream the data with `readStream` method, instead we will load all the files with `read` method."
   ]
  },
  {
   "cell_type": "code",
   "execution_count": 5,
   "metadata": {},
   "outputs": [
    {
     "data": {
      "text/plain": [
       "\u001b[36mkafkaSchema\u001b[39m: \u001b[32mStructType\u001b[39m = \u001b[33mStructType\u001b[39m(StructField(key,StringType,true), StructField(value,StringType,true))"
      ]
     },
     "execution_count": 5,
     "metadata": {},
     "output_type": "execute_result"
    }
   ],
   "source": [
    "val kafkaSchema = new StructType().add(\"key\", \"String\").add(\"value\", \"String\")"
   ]
  },
  {
   "cell_type": "markdown",
   "metadata": {},
   "source": [
    "In [TwitterTrends-1-TrendsToFile](TwitterTrends-1-TrendsToFile.ipynb) we set so many fields and we want to copy the same structure into MongoDB. In order to do so we have to cast all the required fields:"
   ]
  },
  {
   "cell_type": "code",
   "execution_count": 8,
   "metadata": {
    "scrolled": false
   },
   "outputs": [
    {
     "data": {
      "text/plain": [
       "\u001b[36mfileDF\u001b[39m: \u001b[32morg\u001b[39m.\u001b[32mapache\u001b[39m.\u001b[32mspark\u001b[39m.\u001b[32msql\u001b[39m.\u001b[32mpackage\u001b[39m.\u001b[32mDataFrame\u001b[39m = [key: string, country: string ... 6 more fields]"
      ]
     },
     "execution_count": 8,
     "metadata": {},
     "output_type": "execute_result"
    }
   ],
   "source": [
    "//TODO: Implement Structured Streaming into MongoDB with Spark Connector when supported\n",
    "    // readstream from Kafka\n",
    "    // writestream to MongoDB\n",
    "\n",
    "// Workaround: Using Dataframes' read method (not streaming)\n",
    "val fileDF = spark\n",
    "  .read\n",
    "  .schema(kafkaSchema)\n",
    "  .option(\"sep\", \";\")\n",
    "  .option(\"dateFormat\", \"dd/MM/yyyy\")\n",
    "  .csv(\"../datasets/trendFiles/trends_*.csv\")\n",
    "  .selectExpr(\"CAST(key as String)\",\n",
    "             \"split(value, '[|]')[0] as country\",\n",
    "             \"split(value, '[|]')[1] as city\",\n",
    "              \"CAST(split(value, '[|]')[2] as Int) as woeid\",\n",
    "              \"CAST(split(value, '[|]')[3] as Double) as lon\",\n",
    "              \"CAST(split(value, '[|]')[4] as Double) as lat\",\n",
    "              \"TO_TIMESTAMP(CONCAT(split(value, '[|]')[6], ' ', split(value, '[|]')[5]), 'dd/MM/yyyy HH:mm:ss') as date\",\n",
    "              \"split(value, '[|]')[7] as trends\"                 \n",
    "                 )"
   ]
  },
  {
   "cell_type": "markdown",
   "metadata": {},
   "source": [
    "We check that we have the desired schema:"
   ]
  },
  {
   "cell_type": "code",
   "execution_count": 8,
   "metadata": {},
   "outputs": [
    {
     "name": "stdout",
     "output_type": "stream",
     "text": [
      "root\n",
      " |-- key: string (nullable = true)\n",
      " |-- country: string (nullable = true)\n",
      " |-- city: string (nullable = true)\n",
      " |-- woeid: integer (nullable = true)\n",
      " |-- lon: double (nullable = true)\n",
      " |-- lat: double (nullable = true)\n",
      " |-- date: timestamp (nullable = true)\n",
      " |-- trends: string (nullable = true)\n",
      "\n"
     ]
    }
   ],
   "source": [
    "fileDF.printSchema"
   ]
  },
  {
   "cell_type": "markdown",
   "metadata": {},
   "source": [
    "### Insert documents from dataframes into MongoDB"
   ]
  },
  {
   "cell_type": "markdown",
   "metadata": {},
   "source": [
    "Finally we just hace to add every message from Kafka to MongoDB.\n",
    "\n",
    "*Note: Before executing next statement make sure you have [started MongoDB Server](https://github.com/rvilla87/Big-Data#starting-mongodb-server).*"
   ]
  },
  {
   "cell_type": "code",
   "execution_count": 9,
   "metadata": {
    "collapsed": true
   },
   "outputs": [],
   "source": [
    "MongoSpark.save(fileDF.write.option(\"collection\", \"trends\").mode(\"append\"))"
   ]
  }
 ],
 "metadata": {
  "kernelspec": {
   "display_name": "Scala 2.11.11",
   "language": "scala",
   "name": "scala"
  },
  "language_info": {
   "codemirror_mode": "text/x-scala",
   "file_extension": ".scala",
   "mimetype": "text/x-scala",
   "name": "scala211",
   "nbconvert_exporter": "script",
   "pygments_lexer": "scala",
   "version": "2.11.11"
  }
 },
 "nbformat": 4,
 "nbformat_minor": 2
}
