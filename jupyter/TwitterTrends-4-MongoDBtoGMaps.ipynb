{
 "cells": [
  {
   "cell_type": "markdown",
   "metadata": {},
   "source": [
    "# TwitterTrends-4-MongoDBtoGMaps"
   ]
  },
  {
   "cell_type": "markdown",
   "metadata": {},
   "source": [
    "## Importing libraries"
   ]
  },
  {
   "cell_type": "code",
   "execution_count": 15,
   "metadata": {
    "collapsed": true
   },
   "outputs": [],
   "source": [
    "from ipywidgets import interact, interactive, interact_manual, widgets, Label, HBox\n",
    "from IPython.display import display, clear_output\n",
    "import gmaps\n",
    "import sys\n",
    "\n",
    "import pymongo\n",
    "from pymongo import MongoClient\n",
    "from datetime import datetime"
   ]
  },
  {
   "cell_type": "markdown",
   "metadata": {},
   "source": [
    "## Creating MongoDB connection, database and collection variables"
   ]
  },
  {
   "cell_type": "code",
   "execution_count": 18,
   "metadata": {
    "collapsed": true
   },
   "outputs": [],
   "source": [
    "client = MongoClient(\"mongodb://localhost/\")\n",
    "db = client[\"TwitterTrends\"] # database\n",
    "trends = db[\"trends\"] # collection"
   ]
  },
  {
   "cell_type": "markdown",
   "metadata": {},
   "source": [
    "### Set some indicators"
   ]
  },
  {
   "cell_type": "code",
   "execution_count": 19,
   "metadata": {
    "collapsed": true
   },
   "outputs": [],
   "source": [
    "total_count = trends.find().count() # total number of documents in trends collection"
   ]
  },
  {
   "cell_type": "markdown",
   "metadata": {},
   "source": [
    "## Gmaps"
   ]
  },
  {
   "cell_type": "markdown",
   "metadata": {},
   "source": [
    "### Loading Google Maps JavaScript API key\n",
    "Because Google Maps APIs [no longer support keyless access](https://developers.google.com/maps/pricing-and-plans/standard-plan-2016-update) you need to provide your Google Maps JavaScript API key in order to call Google Maps API.\n",
    "\n",
    "My API key is stored in *../files/secret.py* file:"
   ]
  },
  {
   "cell_type": "code",
   "execution_count": 48,
   "metadata": {
    "collapsed": true
   },
   "outputs": [],
   "source": [
    "sys.path.append('../files/')\n",
    "import secret\n",
    "gmaps.configure(api_key=secret.GMAPS_KEY) # Your Google API key"
   ]
  },
  {
   "cell_type": "markdown",
   "metadata": {},
   "source": [
    "### Define functions"
   ]
  },
  {
   "cell_type": "code",
   "execution_count": 45,
   "metadata": {
    "collapsed": true
   },
   "outputs": [],
   "source": [
    "def init_Variables():\n",
    "    global info_box_template, trend_info, locations, filterCountries\n",
    "    \n",
    "    info_box_template = \"\"\"\n",
    "<dl>\n",
    "<dd><b>{country}</b>, {city}.</dd>\n",
    "<dt>Trends at {date}</dt><dd>{trends}</dd>\n",
    "</dl>\n",
    "    \"\"\"\n",
    "    trend_info = []\n",
    "    locations = []\n",
    "    filterCountries = []  \n",
    "\n",
    "# add to filterCountries array the countries wich are checked\n",
    "def checkedCountries():\n",
    "    if Spain_check.value == True: filterCountries.append(\"Spain\")\n",
    "    if UK_check.value == True: filterCountries.append(\"United Kingdom\")\n",
    "    if US_check.value == True: filterCountries.append(\"United States\")\n",
    "    if Japan_check.value == True: filterCountries.append(\"Japan\")\n",
    "    if Russia_check.value == True: filterCountries.append(\"Russia\")\n",
    "    if SA_check.value == True: filterCountries.append(\"South Africa\")\n",
    "    if Germany_check.value == True: filterCountries.append(\"Germany\")\n",
    "    if Argentina_check.value == True: filterCountries.append(\"Argentina\")\n",
    "    if Turkey_check.value == True: filterCountries.append(\"Turkey\")\n",
    "    if UAE_check.value == True: filterCountries.append(\"United Arab Emirates\")\n",
    "\n",
    "# main function called in jupyter's interact_manual method\n",
    "def show_analysis(dateFrom, dateUntil, numLimit):\n",
    "    global m, info_box_template, trend_info, locations, filterCountries, filtered_count\n",
    "    \n",
    "    m.close()  # closing possible previous gmap\n",
    "    m = gmaps.Map()\n",
    "    \n",
    "    init_Variables()\n",
    "    \n",
    "    # Applying needed filters\n",
    "    dateFromFilter = datetime(int(dateFrom.split(\"/\")[2]), int(dateFrom.split(\"/\")[1]), int(dateFrom.split(\"/\")[0]), 0, 0, 0)\n",
    "    dateUntilFilter = datetime(int(dateUntil.split(\"/\")[2]), int(dateUntil.split(\"/\")[1]), int(dateUntil.split(\"/\")[0]), 0, 0, 0)\n",
    "    \n",
    "    checkedCountries()\n",
    "    \n",
    "    # Filter only by date\n",
    "    if filterCountries == []:\n",
    "        trends_filtered = trends.find(\n",
    "                        {\"$and\": [ {\"date\": {\"$gte\": dateFromFilter}},\n",
    "                                   {\"date\": {\"$lte\": dateUntilFilter}} ]\n",
    "                        }).sort([(\"date\", -1)]).limit(numLimit)\n",
    "    # Filter by date and N countries checked by the user\n",
    "    else:\n",
    "        trends_filtered = trends.find(\n",
    "                        {\"$and\": [ {\"date\": {\"$gte\": dateFromFilter}},\n",
    "                                   {\"date\": {\"$lte\": dateUntilFilter}},\n",
    "                                   {\"$or\": [ {\"country\": { \"$in\": filterCountries } } ] }\n",
    "                                 ]}).sort([(\"date\", -1)]).limit(numLimit)\n",
    "        \n",
    "    \n",
    "    filtered_count = trends_filtered.count()\n",
    "    \n",
    "    print(\"Total number of documents in collection: \" + str(total_count))\n",
    "    print(\"Number of filtered documents: \" + str(filtered_count))\n",
    "    if numLimit < filtered_count:\n",
    "        print(\"Limiting to: \" + str(numLimit) + \" number of documents\")\n",
    "\n",
    "\n",
    "    # Itering the MongoDB documents in order to feed gmaps info\n",
    "    for trend in trends_filtered:\n",
    "        trend_info += [info_box_template.format(\n",
    "            country=trend[\"country\"], city=trend[\"city\"], date=trend[\"date\"],\n",
    "            #trends=trend[\"trends\"])]\n",
    "            trends=\", \".join(trend[\"trends\"].split(',')[:10]))]\n",
    "         #   trends=trend[\"trends\"].replace(',', ', '))]\n",
    "        locations += [[trend[\"lat\"], trend[\"lon\"]]]\n",
    "\n",
    "    m = gmaps.Map()\n",
    "    marker_layer = gmaps.marker_layer(locations, info_box_content=trend_info)\n",
    "    m.add_layer(marker_layer)\n",
    "    display(m)"
   ]
  },
  {
   "cell_type": "code",
   "execution_count": 46,
   "metadata": {
    "collapsed": true
   },
   "outputs": [],
   "source": [
    "# creates the countries' checks\n",
    "Spain_check = widgets.Checkbox(value=False, description='Spain', disabled=False)\n",
    "UK_check = widgets.Checkbox(value=False, description='United Kingdom', disabled=False)\n",
    "US_check = widgets.Checkbox(value=False, description='United States', disabled=False)\n",
    "Japan_check = widgets.Checkbox(value=False, description='Japan', disabled=False)\n",
    "Russia_check = widgets.Checkbox(value=False, description='Russia', disabled=False)\n",
    "SA_check = widgets.Checkbox(value=False, description='South Africa', disabled=False)\n",
    "Germany_check = widgets.Checkbox(value=False, description='Germany', disabled=False)\n",
    "Argentina_check = widgets.Checkbox(value=False, description='Argentina', disabled=False)\n",
    "Turkey_check = widgets.Checkbox(value=False, description='Turkey', disabled=False)\n",
    "UAE_check = widgets.Checkbox(value=False, description='United Arab Emirates', disabled=False)"
   ]
  },
  {
   "cell_type": "markdown",
   "metadata": {},
   "source": [
    "## Main program"
   ]
  },
  {
   "cell_type": "markdown",
   "metadata": {},
   "source": [
    "Now we can filter by date or limit the number of results.\n",
    "\n",
    "Optionally you can filter the results by any of the next countries:"
   ]
  },
  {
   "cell_type": "code",
   "execution_count": 51,
   "metadata": {},
   "outputs": [
    {
     "data": {
      "application/vnd.jupyter.widget-view+json": {
       "model_id": "3d868753455649598650d747297cc18f"
      }
     },
     "metadata": {},
     "output_type": "display_data"
    },
    {
     "data": {
      "application/vnd.jupyter.widget-view+json": {
       "model_id": "26579f4e0b534bfaa8a3fc2348e8590e"
      }
     },
     "metadata": {},
     "output_type": "display_data"
    },
    {
     "data": {
      "application/vnd.jupyter.widget-view+json": {
       "model_id": "7200054f696041af9d4d455d4ab18e0b"
      }
     },
     "metadata": {},
     "output_type": "display_data"
    },
    {
     "data": {
      "text/plain": [
       "<function __main__.show_analysis>"
      ]
     },
     "execution_count": 51,
     "metadata": {},
     "output_type": "execute_result"
    }
   ],
   "source": [
    "# Show country's checks\n",
    "display(HBox([Spain_check, UK_check, US_check, Japan_check, Russia_check]))\n",
    "display(HBox([SA_check, Germany_check, Argentina_check, Turkey_check, UAE_check]))\n",
    "\n",
    "# Create gmaps wigdet\n",
    "m = gmaps.Map()\n",
    "\n",
    "# Show interact button, in order to execute the date's filter and show gmaps widget\n",
    "interact_manual(show_analysis, dateFrom=\"31/12/2000\", dateUntil=\"31/12/2099\", numLimit=(0, 1000, 10))"
   ]
  },
  {
   "cell_type": "markdown",
   "metadata": {
    "collapsed": true
   },
   "source": [
    "--------------"
   ]
  },
  {
   "cell_type": "markdown",
   "metadata": {},
   "source": [
    "### Examples\n",
    "\n",
    "Here's a example of some trends in differents countries and languages:\n",
    "\n",
    "![twitterTrends](../images/twitterTrends.png \"twitterTrends\")"
   ]
  },
  {
   "cell_type": "markdown",
   "metadata": {},
   "source": [
    "Also, you can interact with this HTML example with some trends from different locations: \n",
    "- [twitterTrends.html](https://nbviewer.jupyter.org/github/rvilla87/Big-Data/blob/master/files/twitterTrends.html)\n",
    "\n",
    "*Note: The html file was exported as [documented in jupyter-gmaps docs](http://jupyter-gmaps.readthedocs.io/en/latest/export.html#exporting-to-html).*"
   ]
  }
 ],
 "metadata": {
  "kernelspec": {
   "display_name": "Python 3",
   "language": "python",
   "name": "python3"
  },
  "language_info": {
   "codemirror_mode": {
    "name": "ipython",
    "version": 3
   },
   "file_extension": ".py",
   "mimetype": "text/x-python",
   "name": "python",
   "nbconvert_exporter": "python",
   "pygments_lexer": "ipython3",
   "version": "3.6.1"
  },
  "widgets": {
   "application/vnd.jupyter.widget-state+json": {
    "state": {
     "00451e638e35423b8fc5d465d2643405": {
      "model_module": "jupyter-js-widgets",
      "model_module_version": "~2.1.4",
      "model_name": "LayoutModel",
      "state": {
       "_model_module_version": "~2.1.4",
       "_view_module_version": "~2.1.4"
      }
     },
     "011e13b0b75445a6bdff70678bc59d51": {
      "model_module": "jupyter-gmaps",
      "model_module_version": "*",
      "model_name": "MarkerModel",
      "state": {
       "display_info_box": true,
       "hover_text": "",
       "info_box_content": "\n<dl>\n<dd><b>Turkey</b>, Eskişehir.</dd>\n<dt>Trends at 2017-08-02 22:30:18</dt><dd>#BeniSevmeyenlereSesleniyorum, #ComeToBeşiktaş, Gökhan Gönül, #OlurdaBiGünDelirirsem, #UnuttunDimiBeni, #YaşıyorNuriyeVeSemih, Tebrikler Başakşehir, Selman Öğüt, Dinamo Kiev, KurbanBağışımz ÜlküOcaklarına</dd>\n</dl>\n    ",
       "label": "",
       "location": [
        39.7688564,
        30.5216465
       ]
      }
     },
     "016fd867f289403784081c931fddea1c": {
      "model_module": "jupyter-gmaps",
      "model_module_version": "*",
      "model_name": "MarkerModel",
      "state": {
       "display_info_box": true,
       "hover_text": "",
       "info_box_content": "\n<dl>\n<dd><b>Italy</b>, Turin.</dd>\n<dt>Trends at 2017-08-04 16:52:12</dt><dd>#caldorecord, #MilanCraiova, Neymar, Roma, #TimCup, #Uffizi, #SerieC, 7x04 di GOT, Richard Madden, Niang</dd>\n</dl>\n    ",
       "label": "",
       "location": [
        45.0677551,
        7.6824892
       ]
      }
     },
     "01b502f9da3b4e2f92a533eccafe568d": {
      "model_module": "jupyter-gmaps",
      "model_module_version": "*",
      "model_name": "MarkerModel",
      "state": {
       "display_info_box": true,
       "hover_text": "",
       "info_box_content": "\n<dl>\n<dd><b>Italy</b>, Turin.</dd>\n<dt>Trends at 2017-08-04 16:52:12</dt><dd>#caldorecord, #MilanCraiova, Neymar, Roma, #TimCup, #Uffizi, #SerieC, 7x04 di GOT, Richard Madden, Niang</dd>\n</dl>\n    ",
       "label": "",
       "location": [
        45.0677551,
        7.6824892
       ]
      }
     },
     "03997280761f4f55abe4ad2f4fbb2cb1": {
      "model_module": "jupyter-js-widgets",
      "model_module_version": "~2.1.4",
      "model_name": "CheckboxModel",
      "state": {
       "_model_module_version": "~2.1.4",
       "_view_module_version": "~2.1.4",
       "description": "United Arab Emirates",
       "disabled": false,
       "layout": "IPY_MODEL_af9bda1b4f474af5987d8178611c95f6",
       "value": false
      }
     },
     "044d11f402fb48778b8a0fd38c6d638b": {
      "model_module": "jupyter-gmaps",
      "model_module_version": "*",
      "model_name": "MarkerModel",
      "state": {
       "display_info_box": true,
       "hover_text": "",
       "info_box_content": "\n<dl>\n<dd><b>Italy</b>, Turin.</dd>\n<dt>Trends at 2017-08-03 16:36:56</dt><dd>#JMedical, #Unipol, #3agosto, #Raggi, Libia, PRO VERCELLI, #Roma, Taehyung, Jimin, Capodanno</dd>\n</dl>\n    ",
       "label": "",
       "location": [
        45.0677551,
        7.6824892
       ]
      }
     },
     "04772dac7dc4497b9094e2e8983516bc": {
      "model_module": "jupyter-js-widgets",
      "model_module_version": "~2.1.4",
      "model_name": "CheckboxModel",
      "state": {
       "_model_module_version": "~2.1.4",
       "_view_module_version": "~2.1.4",
       "description": "South Africa",
       "disabled": false,
       "layout": "IPY_MODEL_6b731ba218e94c47846461048bfc92df",
       "value": false
      }
     },
     "047cf51c25fd438689d68d8f3b53a856": {
      "model_module": "jupyter-gmaps",
      "model_module_version": "*",
      "model_name": "MarkerModel",
      "state": {
       "display_info_box": true,
       "hover_text": "",
       "info_box_content": "\n<dl>\n<dd><b>Greece</b>, Thessaloniki.</dd>\n<dt>Trends at 2017-08-03 22:20:13</dt><dd>#PAOKOLI, #Παιδεια, #vouli, #gabpao, #LGBTbabes, Ρουβικωνα, Υγεια, Δυτικου Νειλου, Επιτροπη Θεσμων, Στουρναρα</dd>\n</dl>\n    ",
       "label": "",
       "location": [
        40.6403167,
        22.9352716
       ]
      }
     },
     "fa45562ddbf3446f9b72c1c29d356c68": {
      "model_module": "jupyter-js-widgets",
      "model_module_version": "~2.1.4",
      "model_name": "LayoutModel",
      "state": {
       "_model_module_version": "~2.1.4",
       "_view_module_version": "~2.1.4",
       "align_self": "stretch",
       "height": "400px"
      }
     },
     "fae9fc4d33984133bbcfbaf9a4775185": {
      "model_module": "jupyter-js-widgets",
      "model_module_version": "~2.1.4",
      "model_name": "HBoxModel",
      "state": {
       "_model_module_version": "~2.1.4",
       "_view_module_version": "~2.1.4",
       "children": [
        "IPY_MODEL_54230e19894343abbfff0ae80ffca897",
        "IPY_MODEL_c2852ae8d4374590a076cb9dead61290",
        "IPY_MODEL_54b338d1cec34da7b9fa4e1822a855da",
        "IPY_MODEL_fe5e924af4864dfb835f5a33eb9563a5",
        "IPY_MODEL_ed03a781da2a4c4aaf4908686a74bf24"
       ],
       "layout": "IPY_MODEL_63cafd889a3240a889cd92022dbe7b89"
      }
     },
     "fb6068bbf1c941dd987b5ddaecf594db": {
      "model_module": "jupyter-js-widgets",
      "model_module_version": "~2.1.4",
      "model_name": "LayoutModel",
      "state": {
       "_model_module_version": "~2.1.4",
       "_view_module_version": "~2.1.4"
      }
     },
     "fb70f30b0bdc4d2b83c06e3d98cb7516": {
      "model_module": "jupyter-js-widgets",
      "model_module_version": "~2.1.4",
      "model_name": "LayoutModel",
      "state": {
       "_model_module_version": "~2.1.4",
       "_view_module_version": "~2.1.4",
       "align_self": "stretch",
       "height": "400px"
      }
     },
     "fcc9d5b12dd1498c8877311bfe7444b2": {
      "model_module": "jupyter-js-widgets",
      "model_module_version": "~2.1.4",
      "model_name": "LayoutModel",
      "state": {
       "_model_module_version": "~2.1.4",
       "_view_module_version": "~2.1.4"
      }
     },
     "fd284fc454d4461e919eac2af70c5e3f": {
      "model_module": "jupyter-js-widgets",
      "model_module_version": "~2.1.4",
      "model_name": "LayoutModel",
      "state": {
       "_model_module_version": "~2.1.4",
       "_view_module_version": "~2.1.4"
      }
     },
     "fe5e924af4864dfb835f5a33eb9563a5": {
      "model_module": "jupyter-js-widgets",
      "model_module_version": "~2.1.4",
      "model_name": "CheckboxModel",
      "state": {
       "_model_module_version": "~2.1.4",
       "_view_module_version": "~2.1.4",
       "description": "Turkey",
       "disabled": false,
       "layout": "IPY_MODEL_e6559df3d4b14875a2a636ccb081511c",
       "value": false
      }
     },
     "ff386e6dcbf24d73b3a2bcb5058ac8f6": {
      "model_module": "jupyter-js-widgets",
      "model_module_version": "~2.1.4",
      "model_name": "LayoutModel",
      "state": {
       "_model_module_version": "~2.1.4",
       "_view_module_version": "~2.1.4"
      }
     },
     "ffbaaea9456a44678c0ca3983589ec9e": {
      "model_module": "jupyter-js-widgets",
      "model_module_version": "~2.1.4",
      "model_name": "CheckboxModel",
      "state": {
       "_model_module_version": "~2.1.4",
       "_view_module_version": "~2.1.4",
       "description": "Germany",
       "disabled": false,
       "layout": "IPY_MODEL_7d14b28a9fe1433f84b09d1c071c97cd",
       "value": false
      }
     }
    },
    "version_major": 1,
    "version_minor": 0
   }
  }
 },
 "nbformat": 4,
 "nbformat_minor": 1
}
